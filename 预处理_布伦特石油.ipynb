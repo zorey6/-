{
 "cells": [
  {
   "cell_type": "markdown",
   "metadata": {},
   "source": [
    "## 1、数据导入"
   ]
  },
  {
   "cell_type": "code",
   "execution_count": 2,
   "metadata": {},
   "outputs": [],
   "source": [
    "import pandas as pd"
   ]
  },
  {
   "cell_type": "code",
   "execution_count": 3,
   "metadata": {},
   "outputs": [
    {
     "data": {
      "text/html": [
       "<div>\n",
       "<style scoped>\n",
       "    .dataframe tbody tr th:only-of-type {\n",
       "        vertical-align: middle;\n",
       "    }\n",
       "\n",
       "    .dataframe tbody tr th {\n",
       "        vertical-align: top;\n",
       "    }\n",
       "\n",
       "    .dataframe thead th {\n",
       "        text-align: right;\n",
       "    }\n",
       "</style>\n",
       "<table border=\"1\" class=\"dataframe\">\n",
       "  <thead>\n",
       "    <tr style=\"text-align: right;\">\n",
       "      <th></th>\n",
       "      <th>日期</th>\n",
       "      <th>收盘</th>\n",
       "      <th>开盘</th>\n",
       "      <th>高</th>\n",
       "      <th>低</th>\n",
       "      <th>交易量</th>\n",
       "      <th>涨跌幅</th>\n",
       "    </tr>\n",
       "  </thead>\n",
       "  <tbody>\n",
       "    <tr>\n",
       "      <th>0</th>\n",
       "      <td>2024-5-1</td>\n",
       "      <td>83.44</td>\n",
       "      <td>85.80</td>\n",
       "      <td>85.89</td>\n",
       "      <td>83.29</td>\n",
       "      <td>482.83K</td>\n",
       "      <td>-5.03%</td>\n",
       "    </tr>\n",
       "    <tr>\n",
       "      <th>1</th>\n",
       "      <td>2024-4-30</td>\n",
       "      <td>87.86</td>\n",
       "      <td>88.41</td>\n",
       "      <td>88.79</td>\n",
       "      <td>87.46</td>\n",
       "      <td>14.19K</td>\n",
       "      <td>-0.61%</td>\n",
       "    </tr>\n",
       "    <tr>\n",
       "      <th>2</th>\n",
       "      <td>2024-4-29</td>\n",
       "      <td>88.40</td>\n",
       "      <td>89.22</td>\n",
       "      <td>89.29</td>\n",
       "      <td>88.11</td>\n",
       "      <td>99.95K</td>\n",
       "      <td>-1.23%</td>\n",
       "    </tr>\n",
       "    <tr>\n",
       "      <th>3</th>\n",
       "      <td>2024-4-26</td>\n",
       "      <td>89.50</td>\n",
       "      <td>89.23</td>\n",
       "      <td>89.83</td>\n",
       "      <td>88.78</td>\n",
       "      <td>113.70K</td>\n",
       "      <td>0.55%</td>\n",
       "    </tr>\n",
       "    <tr>\n",
       "      <th>4</th>\n",
       "      <td>2024-4-25</td>\n",
       "      <td>89.01</td>\n",
       "      <td>87.89</td>\n",
       "      <td>89.31</td>\n",
       "      <td>87.31</td>\n",
       "      <td>241.35K</td>\n",
       "      <td>1.12%</td>\n",
       "    </tr>\n",
       "  </tbody>\n",
       "</table>\n",
       "</div>"
      ],
      "text/plain": [
       "          日期     收盘     开盘      高      低      交易量     涨跌幅\n",
       "0   2024-5-1  83.44  85.80  85.89  83.29  482.83K  -5.03%\n",
       "1  2024-4-30  87.86  88.41  88.79  87.46   14.19K  -0.61%\n",
       "2  2024-4-29  88.40  89.22  89.29  88.11   99.95K  -1.23%\n",
       "3  2024-4-26  89.50  89.23  89.83  88.78  113.70K   0.55%\n",
       "4  2024-4-25  89.01  87.89  89.31  87.31  241.35K   1.12%"
      ]
     },
     "execution_count": 3,
     "metadata": {},
     "output_type": "execute_result"
    }
   ],
   "source": [
    "df_csv = pd.read_csv('伦敦布伦特原油期货历史数据.csv')\n",
    "df_csv.head()"
   ]
  },
  {
   "cell_type": "markdown",
   "metadata": {},
   "source": [
    "## 2、数据信息查看"
   ]
  },
  {
   "cell_type": "code",
   "execution_count": 4,
   "metadata": {},
   "outputs": [],
   "source": [
    "data = df_csv"
   ]
  },
  {
   "cell_type": "code",
   "execution_count": 5,
   "metadata": {},
   "outputs": [
    {
     "data": {
      "text/plain": [
       "(611, 7)"
      ]
     },
     "execution_count": 5,
     "metadata": {},
     "output_type": "execute_result"
    }
   ],
   "source": [
    "# 查看数据规模（维度）\n",
    "data.shape"
   ]
  },
  {
   "cell_type": "code",
   "execution_count": 6,
   "metadata": {},
   "outputs": [
    {
     "data": {
      "text/plain": [
       "日期      object\n",
       "收盘     float64\n",
       "开盘     float64\n",
       "高      float64\n",
       "低      float64\n",
       "交易量     object\n",
       "涨跌幅     object\n",
       "dtype: object"
      ]
     },
     "execution_count": 6,
     "metadata": {},
     "output_type": "execute_result"
    }
   ],
   "source": [
    "# 查看各变量的数据类型\n",
    "data.dtypes"
   ]
  },
  {
   "cell_type": "code",
   "execution_count": 9,
   "metadata": {},
   "outputs": [],
   "source": [
    "# 把涨跌幅类型转为float\n",
    "data['涨跌幅'] = data['涨跌幅'].str.rstrip('%').astype(float) / 100.0"
   ]
  },
  {
   "cell_type": "code",
   "execution_count": 28,
   "metadata": {},
   "outputs": [],
   "source": [
    "# 把日期类型转为datetime\n",
    "data['日期'] = pd.to_datetime(data['日期'])"
   ]
  },
  {
   "cell_type": "code",
   "execution_count": 30,
   "metadata": {},
   "outputs": [
    {
     "data": {
      "text/plain": [
       "日期     datetime64[ns]\n",
       "收盘            float64\n",
       "开盘            float64\n",
       "高             float64\n",
       "低             float64\n",
       "交易量            object\n",
       "涨跌幅           float64\n",
       "dtype: object"
      ]
     },
     "execution_count": 30,
     "metadata": {},
     "output_type": "execute_result"
    }
   ],
   "source": [
    "# 查看各变量的数据类型\n",
    "data.dtypes"
   ]
  },
  {
   "cell_type": "code",
   "execution_count": 29,
   "metadata": {},
   "outputs": [
    {
     "name": "stdout",
     "output_type": "stream",
     "text": [
      "<class 'pandas.core.frame.DataFrame'>\n",
      "RangeIndex: 611 entries, 0 to 610\n",
      "Data columns (total 7 columns):\n",
      " #   Column  Non-Null Count  Dtype         \n",
      "---  ------  --------------  -----         \n",
      " 0   日期      611 non-null    datetime64[ns]\n",
      " 1   收盘      611 non-null    float64       \n",
      " 2   开盘      611 non-null    float64       \n",
      " 3   高       611 non-null    float64       \n",
      " 4   低       611 non-null    float64       \n",
      " 5   交易量     610 non-null    object        \n",
      " 6   涨跌幅     611 non-null    float64       \n",
      "dtypes: datetime64[ns](1), float64(5), object(1)\n",
      "memory usage: 33.5+ KB\n"
     ]
    }
   ],
   "source": [
    "# 查看数据整体信息\n",
    "data.info()"
   ]
  },
  {
   "cell_type": "code",
   "execution_count": 12,
   "metadata": {},
   "outputs": [
    {
     "data": {
      "text/html": [
       "<div>\n",
       "<style scoped>\n",
       "    .dataframe tbody tr th:only-of-type {\n",
       "        vertical-align: middle;\n",
       "    }\n",
       "\n",
       "    .dataframe tbody tr th {\n",
       "        vertical-align: top;\n",
       "    }\n",
       "\n",
       "    .dataframe thead th {\n",
       "        text-align: right;\n",
       "    }\n",
       "</style>\n",
       "<table border=\"1\" class=\"dataframe\">\n",
       "  <thead>\n",
       "    <tr style=\"text-align: right;\">\n",
       "      <th></th>\n",
       "      <th>日期</th>\n",
       "      <th>收盘</th>\n",
       "      <th>开盘</th>\n",
       "      <th>高</th>\n",
       "      <th>低</th>\n",
       "      <th>涨跌幅</th>\n",
       "    </tr>\n",
       "  </thead>\n",
       "  <tbody>\n",
       "    <tr>\n",
       "      <th>count</th>\n",
       "      <td>611</td>\n",
       "      <td>611.000000</td>\n",
       "      <td>611.000000</td>\n",
       "      <td>611.000000</td>\n",
       "      <td>611.000000</td>\n",
       "      <td>611.000000</td>\n",
       "    </tr>\n",
       "    <tr>\n",
       "      <th>mean</th>\n",
       "      <td>2023-02-23 01:48:24.746317312</td>\n",
       "      <td>89.364517</td>\n",
       "      <td>89.362029</td>\n",
       "      <td>90.899165</td>\n",
       "      <td>87.755794</td>\n",
       "      <td>0.000489</td>\n",
       "    </tr>\n",
       "    <tr>\n",
       "      <th>min</th>\n",
       "      <td>2021-12-20 00:00:00</td>\n",
       "      <td>71.520000</td>\n",
       "      <td>71.280000</td>\n",
       "      <td>72.870000</td>\n",
       "      <td>69.280000</td>\n",
       "      <td>-0.131600</td>\n",
       "    </tr>\n",
       "    <tr>\n",
       "      <th>25%</th>\n",
       "      <td>2022-07-21 12:00:00</td>\n",
       "      <td>80.865000</td>\n",
       "      <td>80.635000</td>\n",
       "      <td>82.055000</td>\n",
       "      <td>79.520000</td>\n",
       "      <td>-0.012100</td>\n",
       "    </tr>\n",
       "    <tr>\n",
       "      <th>50%</th>\n",
       "      <td>2023-02-23 00:00:00</td>\n",
       "      <td>86.090000</td>\n",
       "      <td>86.150000</td>\n",
       "      <td>87.050000</td>\n",
       "      <td>85.060000</td>\n",
       "      <td>0.002100</td>\n",
       "    </tr>\n",
       "    <tr>\n",
       "      <th>75%</th>\n",
       "      <td>2023-09-26 12:00:00</td>\n",
       "      <td>94.610000</td>\n",
       "      <td>94.500000</td>\n",
       "      <td>96.255000</td>\n",
       "      <td>92.770000</td>\n",
       "      <td>0.015000</td>\n",
       "    </tr>\n",
       "    <tr>\n",
       "      <th>max</th>\n",
       "      <td>2024-05-01 00:00:00</td>\n",
       "      <td>127.980000</td>\n",
       "      <td>130.280000</td>\n",
       "      <td>139.130000</td>\n",
       "      <td>122.500000</td>\n",
       "      <td>0.087900</td>\n",
       "    </tr>\n",
       "    <tr>\n",
       "      <th>std</th>\n",
       "      <td>NaN</td>\n",
       "      <td>11.939569</td>\n",
       "      <td>11.950079</td>\n",
       "      <td>12.520757</td>\n",
       "      <td>11.330410</td>\n",
       "      <td>0.023624</td>\n",
       "    </tr>\n",
       "  </tbody>\n",
       "</table>\n",
       "</div>"
      ],
      "text/plain": [
       "                                  日期          收盘          开盘           高  \\\n",
       "count                            611  611.000000  611.000000  611.000000   \n",
       "mean   2023-02-23 01:48:24.746317312   89.364517   89.362029   90.899165   \n",
       "min              2021-12-20 00:00:00   71.520000   71.280000   72.870000   \n",
       "25%              2022-07-21 12:00:00   80.865000   80.635000   82.055000   \n",
       "50%              2023-02-23 00:00:00   86.090000   86.150000   87.050000   \n",
       "75%              2023-09-26 12:00:00   94.610000   94.500000   96.255000   \n",
       "max              2024-05-01 00:00:00  127.980000  130.280000  139.130000   \n",
       "std                              NaN   11.939569   11.950079   12.520757   \n",
       "\n",
       "                低         涨跌幅  \n",
       "count  611.000000  611.000000  \n",
       "mean    87.755794    0.000489  \n",
       "min     69.280000   -0.131600  \n",
       "25%     79.520000   -0.012100  \n",
       "50%     85.060000    0.002100  \n",
       "75%     92.770000    0.015000  \n",
       "max    122.500000    0.087900  \n",
       "std     11.330410    0.023624  "
      ]
     },
     "execution_count": 12,
     "metadata": {},
     "output_type": "execute_result"
    }
   ],
   "source": [
    "# 查看数据描述\n",
    "data.describe()"
   ]
  },
  {
   "cell_type": "code",
   "execution_count": 13,
   "metadata": {},
   "outputs": [
    {
     "data": {
      "text/plain": [
       "Index(['日期', '收盘', '开盘', '高', '低', '交易量', '涨跌幅'], dtype='object')"
      ]
     },
     "execution_count": 13,
     "metadata": {},
     "output_type": "execute_result"
    }
   ],
   "source": [
    "# 列名\n",
    "data.columns"
   ]
  },
  {
   "cell_type": "code",
   "execution_count": 14,
   "metadata": {},
   "outputs": [
    {
     "data": {
      "text/html": [
       "<div>\n",
       "<style scoped>\n",
       "    .dataframe tbody tr th:only-of-type {\n",
       "        vertical-align: middle;\n",
       "    }\n",
       "\n",
       "    .dataframe tbody tr th {\n",
       "        vertical-align: top;\n",
       "    }\n",
       "\n",
       "    .dataframe thead th {\n",
       "        text-align: right;\n",
       "    }\n",
       "</style>\n",
       "<table border=\"1\" class=\"dataframe\">\n",
       "  <thead>\n",
       "    <tr style=\"text-align: right;\">\n",
       "      <th></th>\n",
       "      <th>日期</th>\n",
       "      <th>收盘</th>\n",
       "      <th>开盘</th>\n",
       "      <th>高</th>\n",
       "      <th>低</th>\n",
       "      <th>交易量</th>\n",
       "      <th>涨跌幅</th>\n",
       "    </tr>\n",
       "  </thead>\n",
       "  <tbody>\n",
       "    <tr>\n",
       "      <th>0</th>\n",
       "      <td>2024-05-01</td>\n",
       "      <td>83.44</td>\n",
       "      <td>85.80</td>\n",
       "      <td>85.89</td>\n",
       "      <td>83.29</td>\n",
       "      <td>482.83K</td>\n",
       "      <td>-0.0503</td>\n",
       "    </tr>\n",
       "    <tr>\n",
       "      <th>1</th>\n",
       "      <td>2024-04-30</td>\n",
       "      <td>87.86</td>\n",
       "      <td>88.41</td>\n",
       "      <td>88.79</td>\n",
       "      <td>87.46</td>\n",
       "      <td>14.19K</td>\n",
       "      <td>-0.0061</td>\n",
       "    </tr>\n",
       "    <tr>\n",
       "      <th>2</th>\n",
       "      <td>2024-04-29</td>\n",
       "      <td>88.40</td>\n",
       "      <td>89.22</td>\n",
       "      <td>89.29</td>\n",
       "      <td>88.11</td>\n",
       "      <td>99.95K</td>\n",
       "      <td>-0.0123</td>\n",
       "    </tr>\n",
       "    <tr>\n",
       "      <th>3</th>\n",
       "      <td>2024-04-26</td>\n",
       "      <td>89.50</td>\n",
       "      <td>89.23</td>\n",
       "      <td>89.83</td>\n",
       "      <td>88.78</td>\n",
       "      <td>113.70K</td>\n",
       "      <td>0.0055</td>\n",
       "    </tr>\n",
       "    <tr>\n",
       "      <th>4</th>\n",
       "      <td>2024-04-25</td>\n",
       "      <td>89.01</td>\n",
       "      <td>87.89</td>\n",
       "      <td>89.31</td>\n",
       "      <td>87.31</td>\n",
       "      <td>241.35K</td>\n",
       "      <td>0.0112</td>\n",
       "    </tr>\n",
       "  </tbody>\n",
       "</table>\n",
       "</div>"
      ],
      "text/plain": [
       "          日期     收盘     开盘      高      低      交易量     涨跌幅\n",
       "0 2024-05-01  83.44  85.80  85.89  83.29  482.83K -0.0503\n",
       "1 2024-04-30  87.86  88.41  88.79  87.46   14.19K -0.0061\n",
       "2 2024-04-29  88.40  89.22  89.29  88.11   99.95K -0.0123\n",
       "3 2024-04-26  89.50  89.23  89.83  88.78  113.70K  0.0055\n",
       "4 2024-04-25  89.01  87.89  89.31  87.31  241.35K  0.0112"
      ]
     },
     "execution_count": 14,
     "metadata": {},
     "output_type": "execute_result"
    }
   ],
   "source": [
    "# 查看前五行\n",
    "data.head()"
   ]
  },
  {
   "cell_type": "code",
   "execution_count": 15,
   "metadata": {},
   "outputs": [
    {
     "data": {
      "text/html": [
       "<div>\n",
       "<style scoped>\n",
       "    .dataframe tbody tr th:only-of-type {\n",
       "        vertical-align: middle;\n",
       "    }\n",
       "\n",
       "    .dataframe tbody tr th {\n",
       "        vertical-align: top;\n",
       "    }\n",
       "\n",
       "    .dataframe thead th {\n",
       "        text-align: right;\n",
       "    }\n",
       "</style>\n",
       "<table border=\"1\" class=\"dataframe\">\n",
       "  <thead>\n",
       "    <tr style=\"text-align: right;\">\n",
       "      <th></th>\n",
       "      <th>日期</th>\n",
       "      <th>收盘</th>\n",
       "      <th>开盘</th>\n",
       "      <th>高</th>\n",
       "      <th>低</th>\n",
       "      <th>交易量</th>\n",
       "      <th>涨跌幅</th>\n",
       "    </tr>\n",
       "  </thead>\n",
       "  <tbody>\n",
       "    <tr>\n",
       "      <th>606</th>\n",
       "      <td>2021-12-24</td>\n",
       "      <td>76.14</td>\n",
       "      <td>76.72</td>\n",
       "      <td>76.79</td>\n",
       "      <td>75.75</td>\n",
       "      <td>30.54K</td>\n",
       "      <td>-0.0092</td>\n",
       "    </tr>\n",
       "    <tr>\n",
       "      <th>607</th>\n",
       "      <td>2021-12-23</td>\n",
       "      <td>76.85</td>\n",
       "      <td>75.47</td>\n",
       "      <td>77.00</td>\n",
       "      <td>74.78</td>\n",
       "      <td>161.24K</td>\n",
       "      <td>0.0207</td>\n",
       "    </tr>\n",
       "    <tr>\n",
       "      <th>608</th>\n",
       "      <td>2021-12-22</td>\n",
       "      <td>75.29</td>\n",
       "      <td>74.05</td>\n",
       "      <td>75.67</td>\n",
       "      <td>73.62</td>\n",
       "      <td>166.71K</td>\n",
       "      <td>0.0177</td>\n",
       "    </tr>\n",
       "    <tr>\n",
       "      <th>609</th>\n",
       "      <td>2021-12-21</td>\n",
       "      <td>73.98</td>\n",
       "      <td>71.88</td>\n",
       "      <td>74.27</td>\n",
       "      <td>71.24</td>\n",
       "      <td>214.07K</td>\n",
       "      <td>0.0344</td>\n",
       "    </tr>\n",
       "    <tr>\n",
       "      <th>610</th>\n",
       "      <td>2021-12-20</td>\n",
       "      <td>71.52</td>\n",
       "      <td>72.82</td>\n",
       "      <td>72.87</td>\n",
       "      <td>69.28</td>\n",
       "      <td>333.76K</td>\n",
       "      <td>-0.0272</td>\n",
       "    </tr>\n",
       "  </tbody>\n",
       "</table>\n",
       "</div>"
      ],
      "text/plain": [
       "            日期     收盘     开盘      高      低      交易量     涨跌幅\n",
       "606 2021-12-24  76.14  76.72  76.79  75.75   30.54K -0.0092\n",
       "607 2021-12-23  76.85  75.47  77.00  74.78  161.24K  0.0207\n",
       "608 2021-12-22  75.29  74.05  75.67  73.62  166.71K  0.0177\n",
       "609 2021-12-21  73.98  71.88  74.27  71.24  214.07K  0.0344\n",
       "610 2021-12-20  71.52  72.82  72.87  69.28  333.76K -0.0272"
      ]
     },
     "execution_count": 15,
     "metadata": {},
     "output_type": "execute_result"
    }
   ],
   "source": [
    "# 查看后五行\n",
    "data.tail()"
   ]
  },
  {
   "cell_type": "markdown",
   "metadata": {},
   "source": [
    "## 3、数据清洗以及预处理"
   ]
  },
  {
   "cell_type": "markdown",
   "metadata": {},
   "source": [
    "### 查找空值"
   ]
  },
  {
   "cell_type": "code",
   "execution_count": 16,
   "metadata": {},
   "outputs": [
    {
     "data": {
      "text/plain": [
       "日期     False\n",
       "收盘     False\n",
       "开盘     False\n",
       "高      False\n",
       "低      False\n",
       "交易量     True\n",
       "涨跌幅    False\n",
       "dtype: bool"
      ]
     },
     "execution_count": 16,
     "metadata": {},
     "output_type": "execute_result"
    }
   ],
   "source": [
    "# 查找空值 判断各变量中是否存在缺失值\n",
    "data.isnull().any(axis = 0)"
   ]
  },
  {
   "cell_type": "code",
   "execution_count": 17,
   "metadata": {},
   "outputs": [
    {
     "data": {
      "text/plain": [
       "0      False\n",
       "1      False\n",
       "2      False\n",
       "3      False\n",
       "4      False\n",
       "       ...  \n",
       "606    False\n",
       "607    False\n",
       "608    False\n",
       "609    False\n",
       "610    False\n",
       "Length: 611, dtype: bool"
      ]
     },
     "execution_count": 17,
     "metadata": {},
     "output_type": "execute_result"
    }
   ],
   "source": [
    "# 查找空值 判断数据行中是否存在缺失值\n",
    "data.isnull().any(axis = 1)"
   ]
  },
  {
   "cell_type": "code",
   "execution_count": 18,
   "metadata": {},
   "outputs": [
    {
     "data": {
      "text/html": [
       "<div>\n",
       "<style scoped>\n",
       "    .dataframe tbody tr th:only-of-type {\n",
       "        vertical-align: middle;\n",
       "    }\n",
       "\n",
       "    .dataframe tbody tr th {\n",
       "        vertical-align: top;\n",
       "    }\n",
       "\n",
       "    .dataframe thead th {\n",
       "        text-align: right;\n",
       "    }\n",
       "</style>\n",
       "<table border=\"1\" class=\"dataframe\">\n",
       "  <thead>\n",
       "    <tr style=\"text-align: right;\">\n",
       "      <th></th>\n",
       "      <th>日期</th>\n",
       "      <th>收盘</th>\n",
       "      <th>开盘</th>\n",
       "      <th>高</th>\n",
       "      <th>低</th>\n",
       "      <th>交易量</th>\n",
       "      <th>涨跌幅</th>\n",
       "    </tr>\n",
       "  </thead>\n",
       "  <tbody>\n",
       "    <tr>\n",
       "      <th>423</th>\n",
       "      <td>2022-09-08</td>\n",
       "      <td>88.62</td>\n",
       "      <td>87.98</td>\n",
       "      <td>89.82</td>\n",
       "      <td>87.25</td>\n",
       "      <td>NaN</td>\n",
       "      <td>0.007</td>\n",
       "    </tr>\n",
       "  </tbody>\n",
       "</table>\n",
       "</div>"
      ],
      "text/plain": [
       "            日期     收盘     开盘      高      低  交易量    涨跌幅\n",
       "423 2022-09-08  88.62  87.98  89.82  87.25  NaN  0.007"
      ]
     },
     "execution_count": 18,
     "metadata": {},
     "output_type": "execute_result"
    }
   ],
   "source": [
    "# 定位缺失值所在的行\n",
    "data.loc[data.isnull().any(axis = 1)]"
   ]
  },
  {
   "cell_type": "code",
   "execution_count": 19,
   "metadata": {},
   "outputs": [
    {
     "data": {
      "text/plain": [
       "日期     0\n",
       "收盘     0\n",
       "开盘     0\n",
       "高      0\n",
       "低      0\n",
       "交易量    1\n",
       "涨跌幅    0\n",
       "dtype: int64"
      ]
     },
     "execution_count": 19,
     "metadata": {},
     "output_type": "execute_result"
    }
   ],
   "source": [
    "# 各变量中缺失值的数量\n",
    "data.isnull().sum(axis = 0)"
   ]
  },
  {
   "cell_type": "markdown",
   "metadata": {},
   "source": [
    "### 处理空值"
   ]
  },
  {
   "cell_type": "code",
   "execution_count": 21,
   "metadata": {},
   "outputs": [],
   "source": [
    "# 直接删除空值数据所在行（不采用\n",
    "# data3 = data.dropna()\n",
    "# data3"
   ]
  },
  {
   "cell_type": "code",
   "execution_count": 20,
   "metadata": {},
   "outputs": [
    {
     "data": {
      "text/html": [
       "<div>\n",
       "<style scoped>\n",
       "    .dataframe tbody tr th:only-of-type {\n",
       "        vertical-align: middle;\n",
       "    }\n",
       "\n",
       "    .dataframe tbody tr th {\n",
       "        vertical-align: top;\n",
       "    }\n",
       "\n",
       "    .dataframe thead th {\n",
       "        text-align: right;\n",
       "    }\n",
       "</style>\n",
       "<table border=\"1\" class=\"dataframe\">\n",
       "  <thead>\n",
       "    <tr style=\"text-align: right;\">\n",
       "      <th></th>\n",
       "      <th>日期</th>\n",
       "      <th>收盘</th>\n",
       "      <th>开盘</th>\n",
       "      <th>高</th>\n",
       "      <th>低</th>\n",
       "      <th>交易量</th>\n",
       "      <th>涨跌幅</th>\n",
       "    </tr>\n",
       "  </thead>\n",
       "  <tbody>\n",
       "    <tr>\n",
       "      <th>0</th>\n",
       "      <td>2024-05-01</td>\n",
       "      <td>83.44</td>\n",
       "      <td>85.80</td>\n",
       "      <td>85.89</td>\n",
       "      <td>83.29</td>\n",
       "      <td>482.83K</td>\n",
       "      <td>-0.0503</td>\n",
       "    </tr>\n",
       "    <tr>\n",
       "      <th>1</th>\n",
       "      <td>2024-04-30</td>\n",
       "      <td>87.86</td>\n",
       "      <td>88.41</td>\n",
       "      <td>88.79</td>\n",
       "      <td>87.46</td>\n",
       "      <td>14.19K</td>\n",
       "      <td>-0.0061</td>\n",
       "    </tr>\n",
       "    <tr>\n",
       "      <th>2</th>\n",
       "      <td>2024-04-29</td>\n",
       "      <td>88.40</td>\n",
       "      <td>89.22</td>\n",
       "      <td>89.29</td>\n",
       "      <td>88.11</td>\n",
       "      <td>99.95K</td>\n",
       "      <td>-0.0123</td>\n",
       "    </tr>\n",
       "    <tr>\n",
       "      <th>3</th>\n",
       "      <td>2024-04-26</td>\n",
       "      <td>89.50</td>\n",
       "      <td>89.23</td>\n",
       "      <td>89.83</td>\n",
       "      <td>88.78</td>\n",
       "      <td>113.70K</td>\n",
       "      <td>0.0055</td>\n",
       "    </tr>\n",
       "    <tr>\n",
       "      <th>4</th>\n",
       "      <td>2024-04-25</td>\n",
       "      <td>89.01</td>\n",
       "      <td>87.89</td>\n",
       "      <td>89.31</td>\n",
       "      <td>87.31</td>\n",
       "      <td>241.35K</td>\n",
       "      <td>0.0112</td>\n",
       "    </tr>\n",
       "    <tr>\n",
       "      <th>...</th>\n",
       "      <td>...</td>\n",
       "      <td>...</td>\n",
       "      <td>...</td>\n",
       "      <td>...</td>\n",
       "      <td>...</td>\n",
       "      <td>...</td>\n",
       "      <td>...</td>\n",
       "    </tr>\n",
       "    <tr>\n",
       "      <th>606</th>\n",
       "      <td>2021-12-24</td>\n",
       "      <td>76.14</td>\n",
       "      <td>76.72</td>\n",
       "      <td>76.79</td>\n",
       "      <td>75.75</td>\n",
       "      <td>30.54K</td>\n",
       "      <td>-0.0092</td>\n",
       "    </tr>\n",
       "    <tr>\n",
       "      <th>607</th>\n",
       "      <td>2021-12-23</td>\n",
       "      <td>76.85</td>\n",
       "      <td>75.47</td>\n",
       "      <td>77.00</td>\n",
       "      <td>74.78</td>\n",
       "      <td>161.24K</td>\n",
       "      <td>0.0207</td>\n",
       "    </tr>\n",
       "    <tr>\n",
       "      <th>608</th>\n",
       "      <td>2021-12-22</td>\n",
       "      <td>75.29</td>\n",
       "      <td>74.05</td>\n",
       "      <td>75.67</td>\n",
       "      <td>73.62</td>\n",
       "      <td>166.71K</td>\n",
       "      <td>0.0177</td>\n",
       "    </tr>\n",
       "    <tr>\n",
       "      <th>609</th>\n",
       "      <td>2021-12-21</td>\n",
       "      <td>73.98</td>\n",
       "      <td>71.88</td>\n",
       "      <td>74.27</td>\n",
       "      <td>71.24</td>\n",
       "      <td>214.07K</td>\n",
       "      <td>0.0344</td>\n",
       "    </tr>\n",
       "    <tr>\n",
       "      <th>610</th>\n",
       "      <td>2021-12-20</td>\n",
       "      <td>71.52</td>\n",
       "      <td>72.82</td>\n",
       "      <td>72.87</td>\n",
       "      <td>69.28</td>\n",
       "      <td>333.76K</td>\n",
       "      <td>-0.0272</td>\n",
       "    </tr>\n",
       "  </tbody>\n",
       "</table>\n",
       "<p>611 rows × 7 columns</p>\n",
       "</div>"
      ],
      "text/plain": [
       "            日期     收盘     开盘      高      低      交易量     涨跌幅\n",
       "0   2024-05-01  83.44  85.80  85.89  83.29  482.83K -0.0503\n",
       "1   2024-04-30  87.86  88.41  88.79  87.46   14.19K -0.0061\n",
       "2   2024-04-29  88.40  89.22  89.29  88.11   99.95K -0.0123\n",
       "3   2024-04-26  89.50  89.23  89.83  88.78  113.70K  0.0055\n",
       "4   2024-04-25  89.01  87.89  89.31  87.31  241.35K  0.0112\n",
       "..         ...    ...    ...    ...    ...      ...     ...\n",
       "606 2021-12-24  76.14  76.72  76.79  75.75   30.54K -0.0092\n",
       "607 2021-12-23  76.85  75.47  77.00  74.78  161.24K  0.0207\n",
       "608 2021-12-22  75.29  74.05  75.67  73.62  166.71K  0.0177\n",
       "609 2021-12-21  73.98  71.88  74.27  71.24  214.07K  0.0344\n",
       "610 2021-12-20  71.52  72.82  72.87  69.28  333.76K -0.0272\n",
       "\n",
       "[611 rows x 7 columns]"
      ]
     },
     "execution_count": 20,
     "metadata": {},
     "output_type": "execute_result"
    }
   ],
   "source": [
    "# 定义缺失值为0\n",
    "data_null_0 = data.fillna(0,inplace = False)\n",
    "data_null_0"
   ]
  },
  {
   "cell_type": "code",
   "execution_count": null,
   "metadata": {},
   "outputs": [],
   "source": [
    "# # 对缺失值进行填充（用中位数或者平均数.....）\n",
    "# # 采用平均值\n",
    "# # 定义一个函数，用于将带有\"k\"的值转换为浮点数\n",
    "# def k_to_float(value):\n",
    "#     if isinstance(value, str) and value.endswith(\"K\"):\n",
    "#         return float(value[:-1]) * 1000\n",
    "#     else:\n",
    "#         return float(value)\n",
    "\n",
    "# # 对包含\"k\"单位的列应用函数\n",
    "# df_csv['交易量'] = df_csv['交易量'].apply(k_to_float)\n",
    "# # 填充平均值\n",
    "# data_null_value = data.fillna(value = {'交易量':data['交易量'].mean()},inplace = False)\n",
    "# data_null_value"
   ]
  },
  {
   "cell_type": "code",
   "execution_count": 21,
   "metadata": {},
   "outputs": [
    {
     "data": {
      "text/plain": [
       "日期     0\n",
       "收盘     0\n",
       "开盘     0\n",
       "高      0\n",
       "低      0\n",
       "交易量    1\n",
       "涨跌幅    0\n",
       "dtype: int64"
      ]
     },
     "execution_count": 21,
     "metadata": {},
     "output_type": "execute_result"
    }
   ],
   "source": [
    "# 源数据未改变\n",
    "data.isnull().sum(axis = 0)"
   ]
  },
  {
   "cell_type": "code",
   "execution_count": 22,
   "metadata": {},
   "outputs": [
    {
     "data": {
      "text/plain": [
       "日期     0\n",
       "收盘     0\n",
       "开盘     0\n",
       "高      0\n",
       "低      0\n",
       "交易量    0\n",
       "涨跌幅    0\n",
       "dtype: int64"
      ]
     },
     "execution_count": 22,
     "metadata": {},
     "output_type": "execute_result"
    }
   ],
   "source": [
    "# 新数据已无空值\n",
    "data_null_0.isnull().sum(axis = 0)"
   ]
  },
  {
   "cell_type": "code",
   "execution_count": 23,
   "metadata": {},
   "outputs": [
    {
     "data": {
      "text/plain": [
       "日期     2022-03-09 00:00:00\n",
       "收盘                  111.14\n",
       "开盘                  130.28\n",
       "高                   131.64\n",
       "低                    105.6\n",
       "交易量                521.58K\n",
       "涨跌幅                -0.1316\n",
       "Name: 553, dtype: object"
      ]
     },
     "execution_count": 23,
     "metadata": {},
     "output_type": "execute_result"
    }
   ],
   "source": [
    "# 开盘油价最高的情况\n",
    "max_row_index = df_csv['开盘'].idxmax()\n",
    "# 返回最大值所在的行\n",
    "max_row = df_csv.iloc[max_row_index]\n",
    "max_row"
   ]
  },
  {
   "cell_type": "code",
   "execution_count": 24,
   "metadata": {},
   "outputs": [
    {
     "data": {
      "text/plain": [
       "日期     2022-03-08 00:00:00\n",
       "收盘                  127.98\n",
       "开盘                  124.56\n",
       "高                   133.15\n",
       "低                   121.31\n",
       "交易量                469.99K\n",
       "涨跌幅                 0.0387\n",
       "Name: 554, dtype: object"
      ]
     },
     "execution_count": 24,
     "metadata": {},
     "output_type": "execute_result"
    }
   ],
   "source": [
    "# 收盘油价最高的情况\n",
    "max_row_index = df_csv['收盘'].idxmax()\n",
    "# 返回最大值所在的行\n",
    "max_row = df_csv.iloc[max_row_index]\n",
    "max_row"
   ]
  },
  {
   "cell_type": "code",
   "execution_count": 25,
   "metadata": {},
   "outputs": [
    {
     "data": {
      "text/plain": [
       "日期     2023-05-04 00:00:00\n",
       "收盘                    72.5\n",
       "开盘                   71.28\n",
       "高                    73.72\n",
       "低                    71.28\n",
       "交易量                362.23K\n",
       "涨跌幅                 0.0024\n",
       "Name: 256, dtype: object"
      ]
     },
     "execution_count": 25,
     "metadata": {},
     "output_type": "execute_result"
    }
   ],
   "source": [
    "# 开盘油价最低的情况\n",
    "min_row_index = df_csv['开盘'].idxmin()\n",
    "# 返回最小值所在的行\n",
    "min_row = df_csv.iloc[min_row_index]\n",
    "min_row"
   ]
  },
  {
   "cell_type": "code",
   "execution_count": 26,
   "metadata": {},
   "outputs": [
    {
     "data": {
      "text/plain": [
       "日期     2021-12-20 00:00:00\n",
       "收盘                   71.52\n",
       "开盘                   72.82\n",
       "高                    72.87\n",
       "低                    69.28\n",
       "交易量                333.76K\n",
       "涨跌幅                -0.0272\n",
       "Name: 610, dtype: object"
      ]
     },
     "execution_count": 26,
     "metadata": {},
     "output_type": "execute_result"
    }
   ],
   "source": [
    "# 收盘油价最低的情况\n",
    "min_row_index = df_csv['收盘'].idxmin()\n",
    "# 返回最小值所在的行\n",
    "min_row = df_csv.iloc[min_row_index]\n",
    "min_row"
   ]
  },
  {
   "cell_type": "code",
   "execution_count": 27,
   "metadata": {},
   "outputs": [],
   "source": [
    "# 导出新csv文件\n",
    "data_null_0.to_csv('伦敦布伦特原油期货历史数据(清洗).csv',index=False)"
   ]
  },
  {
   "cell_type": "code",
   "execution_count": null,
   "metadata": {},
   "outputs": [],
   "source": []
  }
 ],
 "metadata": {
  "kernelspec": {
   "display_name": "Python 3",
   "language": "python",
   "name": "python3"
  },
  "language_info": {
   "codemirror_mode": {
    "name": "ipython",
    "version": 3
   },
   "file_extension": ".py",
   "mimetype": "text/x-python",
   "name": "python",
   "nbconvert_exporter": "python",
   "pygments_lexer": "ipython3",
   "version": "3.8.0"
  },
  "orig_nbformat": 4
 },
 "nbformat": 4,
 "nbformat_minor": 2
}
